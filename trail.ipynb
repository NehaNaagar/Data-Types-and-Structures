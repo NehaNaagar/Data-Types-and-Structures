{
  "nbformat": 4,
  "nbformat_minor": 0,
  "metadata": {
    "colab": {
      "provenance": [],
      "authorship_tag": "ABX9TyOWIIe7y7U3YNjn4oD/kg0k",
      "include_colab_link": true
    },
    "kernelspec": {
      "name": "python3",
      "display_name": "Python 3"
    },
    "language_info": {
      "name": "python"
    }
  },
  "cells": [
    {
      "cell_type": "markdown",
      "metadata": {
        "id": "view-in-github",
        "colab_type": "text"
      },
      "source": [
        "<a href=\"https://colab.research.google.com/github/NehaNaagar/Data-Types-and-Structures/blob/main/trail.ipynb\" target=\"_parent\"><img src=\"https://colab.research.google.com/assets/colab-badge.svg\" alt=\"Open In Colab\"/></a>"
      ]
    },
    {
      "cell_type": "code",
      "execution_count": 4,
      "metadata": {
        "id": "Q8Jgy-sNdkPM"
      },
      "outputs": [],
      "source": [
        "def squares(numbers):\n",
        "  return [num **2 for num in numbers]\n",
        "\n",
        "  numbers = [1, 2, 3, 4, 5]\n",
        "  print(squares(numbers))"
      ]
    }
  ]
}